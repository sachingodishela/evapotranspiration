{
  "nbformat": 4,
  "nbformat_minor": 0,
  "metadata": {
    "colab": {
      "name": "ET.ipynb",
      "provenance": [],
      "authorship_tag": "ABX9TyODXUTQX6pkg0cSgP7YV9j/",
      "include_colab_link": true
    },
    "kernelspec": {
      "name": "python3",
      "display_name": "Python 3"
    }
  },
  "cells": [
    {
      "cell_type": "markdown",
      "metadata": {
        "id": "view-in-github",
        "colab_type": "text"
      },
      "source": [
        "<a href=\"https://colab.research.google.com/github/sachingodishela/evapotranspiration/blob/main/ET.ipynb\" target=\"_parent\"><img src=\"https://colab.research.google.com/assets/colab-badge.svg\" alt=\"Open In Colab\"/></a>"
      ]
    },
    {
      "cell_type": "code",
      "metadata": {
        "id": "Uqo5ea2rvHZj"
      },
      "source": [
        "#1 libraries are imported here\n",
        "import pandas as pd\n",
        "import numpy as np\n",
        "from matplotlib import pyplot as plt"
      ],
      "execution_count": 1,
      "outputs": []
    },
    {
      "cell_type": "code",
      "metadata": {
        "id": "UJEnwL0AvcYR"
      },
      "source": [
        "G = 0\n",
        "_Rs = 9.7230144             # MJ/(m^2-day)\n",
        "_uh = 2.240117              # metre sec^-1, for 1 metre height\n",
        "_Tmax = 56.54               # centigrade\n",
        "_Tmin = 27.32               # centigrade\n",
        "_RHmax = 83.4\n",
        "_RHmin = 17.7\n",
        "_J = 1\n",
        "_z = 650\n",
        "_h = 1                      # metre\n",
        "_phi_degree = 17.3667\n",
        "_albedo = 0.225\n",
        "_Cp = 0.001013              # MJ/kg-C\n",
        "_Tbase = 18                 # centigrade\n",
        "_Tcutoff = 50               # centigrade\n",
        "_lambda = 2.45              # MJ/kg\n",
        "Cn_short = 900              # mm/day\n",
        "Cd_short = 0.34             # mm/day\n",
        "Cn_long = 1600              # mm/day\n",
        "Cd_long = 0.38              # mm/day\n",
        "_Gsc = 0.0820\n",
        "_sigma = 4.903 * 10**-9     # MJ  K^-4 m^-2 day^-1\n",
        "kRS = 0.17"
      ],
      "execution_count": 2,
      "outputs": []
    },
    {
      "cell_type": "code",
      "metadata": {
        "id": "GD0ygNfRve7v"
      },
      "source": [
        "def eT(T):\n",
        "    y =  0.6108 * np.exp((17.27*T)/(T+237.3))\n",
        "    return y"
      ],
      "execution_count": 3,
      "outputs": []
    },
    {
      "cell_type": "code",
      "metadata": {
        "id": "fzVN4mGZvgbo"
      },
      "source": [
        "def ET(_Rs, _RHmax, _RHmin, _uh, _Tmax, _Tmin, _z, _J, _h, _phi_degree):\n",
        "    _Tmean = (_Tmax + _Tmin) * 0.5\n",
        "    _u2 = _uh * 4.87 / np.log(67.8*_h - 5.42)\n",
        "    _P = 101.3 * (((293-0.0065*_z)/293)**5.26)\n",
        "    _gamma = 0.000665 * _P\n",
        "    _dr = 1 + 0.033 * np.cos(2 * np.pi * _J / 365)\n",
        "    _dell = 0.409 * np.sin(2 * np.pi * _J / 365 - 1.39)\n",
        "    _phi = (np.pi / 180) * _phi_degree\n",
        "    _omega_s = np.arccos(- np.tan(_phi) * np.tan(_dell))\n",
        "    _Ra = (24*60/np.pi) * _Gsc * _dr * (_omega_s * np.sin(_phi) * np.sin(_dell) + np.sin(_omega_s) * np.cos(_phi) * np.cos(_dell))\n",
        "    _Rso = (0.75 + 2 * 10**-5 * _z) * _Ra\n",
        "    _Rns = (1 - _albedo) * _Rs\n",
        "    if(_RHmin != 0 and _RHmax != 0):\n",
        "        _ea = (eT(_Tmin)*(_RHmax/100) + eT(_Tmax)*(_RHmin/100))*0.5\n",
        "    else:\n",
        "        _ea = eT(_Tmin)\n",
        "    if(_RHmax > 0):\n",
        "        _ea *=  (_RHmax/100)\n",
        "    _es = 0.5 * (eT(_Tmax) + eT(_Tmin))\n",
        "    _Rnl = _sigma * (((_Tmax+273.16)**4 + (_Tmin+273.16)**4)/2) * (0.34 - 0.14 * np.sqrt(_ea)) * (1.35 * (_Rs/_Rso) - 0.35)\n",
        "    _Rn = _Rns - _Rnl\n",
        "    _delta = 4098*(0.6108*np.exp(17.27*_Tmean/(_Tmean+237.3)))/((_Tmean+237.3)**2)\n",
        "    _Cns = [[Cn_long, Cd_long], [Cn_short, Cd_short]]\n",
        "    _Ets = []\n",
        "    for cns in _Cns:\n",
        "        _Eto_numerator = 0.408 * _delta * (_Rn - G) + _gamma * ((cns[0])/(_Tmean + 273))  * _u2 * (_es - _ea)\n",
        "        _Eto_denominator = _delta + _gamma * (1 + cns[1] * _u2)\n",
        "        _Eto = _Eto_numerator / _Eto_denominator\n",
        "        _Ets.append(_Eto)\n",
        "    _Eto = 0.0135 * kRS * (_Ra/_lambda) * np.sqrt(_Tmax-_Tmin) * (_Tmean + 17.8)\n",
        "    _Ets.append(_Eto)\n",
        "    return _Ets                                                                 #long_penman, short_penman, hargreeves"
      ],
      "execution_count": 4,
      "outputs": []
    },
    {
      "cell_type": "code",
      "metadata": {
        "id": "8QcgCJaqvi-7"
      },
      "source": [
        "df = pd.read_csv('AWS.csv')                                                     # read the csv into a variable  encoding = 'iso-8859-1'\n",
        "df_val = df.to_numpy()  "
      ],
      "execution_count": 5,
      "outputs": []
    },
    {
      "cell_type": "code",
      "metadata": {
        "id": "fiHNMT89vkwT"
      },
      "source": [
        "solutions = []\n",
        "for i in range(df_val.shape[0]):\n",
        "    par = df_val[i]\n",
        "    solutions.append(ET(par[5], par[3], par[4], par[6] , par[1], par[2],_z, par[0], _h, _phi_degree))\n",
        "ET_values = np.transpose(np.array(solutions))"
      ],
      "execution_count": 6,
      "outputs": []
    },
    {
      "cell_type": "code",
      "metadata": {
        "id": "pYQ1p5uMvmFG"
      },
      "source": [
        "#7 Plot daily ET values\n",
        "plt.figure(figsize=(19.2, 10.8))\n",
        "plt.plot(ET_values[0], label='Penman ET, Long Crop')\n",
        "plt.plot(ET_values[1], label='Penman ET, Short Crop')\n",
        "plt.plot(ET_values[2], label='Hargreaves ET')\n",
        "plt.legend()\n",
        "plt.xlabel('Day of the year')\n",
        "plt.ylabel('ET')\n",
        "plt.savefig('Daily ET Values.png', dpi=200)"
      ],
      "execution_count": null,
      "outputs": []
    },
    {
      "cell_type": "code",
      "metadata": {
        "id": "fIpYik9HvnhP"
      },
      "source": [
        "max_days = [31, 28, 31, 30, 31, 30, 31, 31, 30, 31, 30, 31]\n",
        "months = ['Jan', 'Feb', 'Mar', 'Apr', 'May', 'Jun', 'Jul', 'Aug', 'Sep', 'Oct', 'Nov', 'Dec']\n",
        "avg = [[0, 0, 0] for x in range(12)]\n",
        "i = 0\n",
        "for d in range(12):\n",
        "    current_day = 0\n",
        "    while( current_day < max_days[d]):\n",
        "        avg[d][0] = avg[d][0] + ET_values[0][i]\n",
        "        avg[d][1] = avg[d][1] + ET_values[1][i]\n",
        "        avg[d][2] = avg[d][2] + ET_values[2][i]\n",
        "        current_day = current_day + 1\n",
        "        i = i + 1\n",
        "monthly_ET_values = np.transpose(np.array(avg))\n",
        "bar_width = 0.25\n",
        "r1 = np.arange(len(monthly_ET_values[0]))\n",
        "r2 = [x + bar_width for x in r1]\n",
        "r3 = [x + bar_width for x in r2]\n",
        "fig = plt.figure(figsize=(19.2, 10.8))\n",
        "\n",
        "plt.bar(months, monthly_ET_values[0], width=bar_width, label='Penman ET Monthly, Long Crop')\n",
        "plt.bar(r2, monthly_ET_values[1], width=bar_width, label='Penman ET Monthly, Short Crop')\n",
        "plt.bar(r3, monthly_ET_values[2], width=bar_width,label='Hargreaves ET Monthly')\n",
        "plt.legend()\n",
        "plt.xlabel('Month of the year')\n",
        "plt.ylabel('ET')\n",
        "plt.savefig('Monthly ET Values.png', dpi=200)"
      ],
      "execution_count": null,
      "outputs": []
    },
    {
      "cell_type": "code",
      "metadata": {
        "id": "Wij7hvEZvq5V"
      },
      "source": [
        "#9 cumulative monthly ET values from all three methods:\n",
        "cum_monthly = monthly_ET_values\n",
        "for d in range(1,12):\n",
        "    cum_monthly[0][d] += cum_monthly[0][d-1]\n",
        "    cum_monthly[1][d] += cum_monthly[1][d-1]\n",
        "    cum_monthly[2][d] += cum_monthly[2][d-1]"
      ],
      "execution_count": 9,
      "outputs": []
    },
    {
      "cell_type": "code",
      "metadata": {
        "id": "raEVSvpjvrdN"
      },
      "source": [
        "#10 Plotting cumulative monthly values:\n",
        "r1 = np.arange(len(cum_monthly[0]))\n",
        "r2 = [x + bar_width for x in r1]\n",
        "r3 = [x + bar_width for x in r2]\n",
        "fig = plt.figure(figsize=(19.2, 10.8))\n",
        "plt.bar(months, cum_monthly[0], width=bar_width, label='Penman ET Monthly Cumulative, Long Crop')\n",
        "plt.bar(r2, cum_monthly[1], width=bar_width, label='Penman ET Monthly Cumulative, Short Crop')\n",
        "plt.bar(r3, cum_monthly[2], width=bar_width,label='Hargreaves ET Monthly Cumulative')\n",
        "plt.legend()\n",
        "plt.xlabel('Month of the year')\n",
        "plt.ylabel('ET')\n",
        "plt.savefig('Cumulative Monthly ET Values.png', dpi=200)"
      ],
      "execution_count": null,
      "outputs": []
    },
    {
      "cell_type": "code",
      "metadata": {
        "id": "tgxmS17JvtBL"
      },
      "source": [
        "#11 Cumulative Daily ET values:\n",
        "cum_ET =  ET_values\n",
        "for i in range(1, 365):\n",
        "    cum_ET[0][i] += cum_ET[0][i-1]\n",
        "    cum_ET[1][i] += cum_ET[1][i-1]\n",
        "    cum_ET[2][i] += cum_ET[2][i-1]"
      ],
      "execution_count": 11,
      "outputs": []
    },
    {
      "cell_type": "code",
      "metadata": {
        "id": "nyfKpCotvzdw"
      },
      "source": [
        "#13 Plotting cumulative daily values:\n",
        "plt.figure(figsize=(19.2, 10.8))\n",
        "plt.plot(cum_ET[0], label='Cumulative Penman ET, Long Crop')\n",
        "plt.plot(cum_ET[1], label='Cumulative Penman ET, Short Crop')\n",
        "plt.plot(cum_ET[2], label='Cumulative Hargreaves ET')\n",
        "plt.legend()\n",
        "plt.xlabel('Day of the year')\n",
        "plt.ylabel('ET')\n",
        "plt.savefig('Cumulative Daily ET Values.png', dpi=200)"
      ],
      "execution_count": null,
      "outputs": []
    },
    {
      "cell_type": "code",
      "metadata": {
        "id": "XkOTVtkFv1-y"
      },
      "source": [
        "#14 Generate daily ET Cumulative values\n",
        "f = open('Cumulative Daily.txt', 'a')\n",
        "f.write('Long_Penman_Daily_Cumulative, Short_Penman_Daily_Cumulative, Hargreaves_Cumulative\\n')\n",
        "np.set_printoptions(threshold=np.inf)\n",
        "f.write(np.array_str(np.transpose(ET_values)))\n",
        "f.close()"
      ],
      "execution_count": 13,
      "outputs": []
    },
    {
      "cell_type": "code",
      "metadata": {
        "id": "owBm-TAhv3y8"
      },
      "source": [
        "#15 Generate monthly ET Cumulative values\n",
        "f = open('Cumulative Monthly.txt', 'a')\n",
        "f.write('Long_Penman_Monthly_Cumulative, Short_Penman_Monthly_Cumulative, Hargreaves_Cumulative\\n')\n",
        "f.write(np.array_str(np.transpose(monthly_ET_values)))\n",
        "f.close()"
      ],
      "execution_count": 14,
      "outputs": []
    }
  ]
}